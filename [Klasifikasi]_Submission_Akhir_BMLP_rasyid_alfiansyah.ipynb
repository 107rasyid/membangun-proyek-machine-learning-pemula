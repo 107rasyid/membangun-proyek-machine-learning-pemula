{
  "nbformat": 4,
  "nbformat_minor": 0,
  "metadata": {
    "colab": {
      "provenance": []
    },
    "kernelspec": {
      "name": "python3",
      "display_name": "Python 3"
    },
    "language_info": {
      "name": "python"
    }
  },
  "cells": [
    {
      "cell_type": "markdown",
      "source": [
        "# **Penting**\n",
        "- Pastikan Anda melakukan Run All sebelum mengirimkan submission untuk memastikan seluruh cell berjalan dengan baik.\n",
        "- Hapus simbol pagar (#) jika Anda menerapkan kriteria tambahan\n",
        "- Biarkan simbol pagar (#) jika Anda tidak menerapkan kriteria tambahan"
      ],
      "metadata": {
        "id": "0tvAKGat01Sd"
      }
    },
    {
      "cell_type": "markdown",
      "source": [
        "# **1. Import Library**\n",
        "Pada tahap ini, Anda perlu mengimpor beberapa pustaka (library) Python yang dibutuhkan untuk analisis data dan pembangunan model machine learning."
      ],
      "metadata": {
        "id": "fKADPWcFKlj3"
      }
    },
    {
      "cell_type": "code",
      "source": [
        "import pandas as pd\n",
        "import numpy as np\n",
        "import matplotlib.pyplot as plt\n",
        "from sklearn.model_selection import train_test_split\n",
        "from sklearn.tree import DecisionTreeClassifier\n",
        "from sklearn.metrics import accuracy_score, classification_report, confusion_matrix, precision_score, recall_score, f1_score\n",
        "from sklearn.ensemble import RandomForestClassifier\n",
        "from sklearn.model_selection import GridSearchCV\n",
        "import joblib"
      ],
      "metadata": {
        "id": "BlmvjLY9M4Yj"
      },
      "execution_count": 1,
      "outputs": []
    },
    {
      "cell_type": "markdown",
      "source": [
        "# **2. Memuat Dataset dari Hasil Clustering**\n",
        "Memuat dataset hasil clustering dari file CSV ke dalam variabel DataFrame."
      ],
      "metadata": {
        "id": "f3YIEnAFKrKL"
      }
    },
    {
      "cell_type": "code",
      "source": [
        "# Gunakan dataset hasil clustering yang memiliki fitur Target\n",
        "url = \"https://raw.githubusercontent.com/107rasyid/membangun-proyek-machine-learning-pemula/refs/heads/main/data_clustering.csv\"\n",
        "df = pd.read_csv(url)"
      ],
      "metadata": {
        "id": "GHCGNTyrM5fS"
      },
      "execution_count": 2,
      "outputs": []
    },
    {
      "cell_type": "code",
      "source": [
        "# Tampilkan 5 baris pertama dengan function head.\n",
        "print(df.head())"
      ],
      "metadata": {
        "id": "bCsep0NZ0LUf",
        "colab": {
          "base_uri": "https://localhost:8080/"
        },
        "outputId": "3b84ce3e-c1cc-466c-a7e6-6ef64eca3252"
      },
      "execution_count": 3,
      "outputs": [
        {
          "output_type": "stream",
          "name": "stdout",
          "text": [
            "   TransactionAmount      TransactionDate  TransactionType  Location  Channel  \\\n",
            "0          -0.970546  2023-04-11 16:29:14                1        36        0   \n",
            "1           0.268963  2023-06-27 16:44:19                1        15        0   \n",
            "2          -0.586526  2023-07-10 18:16:08                1        23        2   \n",
            "3          -0.387294  2023-05-05 16:32:11                1        33        2   \n",
            "4          -0.972736  2023-10-16 17:51:24                0         1        2   \n",
            "\n",
            "   CustomerAge  CustomerOccupation  TransactionDuration  LoginAttempts  \\\n",
            "0     1.419862                   0            -0.548393      -0.204629   \n",
            "1     1.307715                   0             0.307960      -0.204629   \n",
            "2    -1.439874                   3            -0.905207      -0.204629   \n",
            "3    -1.047361                   3            -1.347656      -0.204629   \n",
            "4     0.018031                   3             1.121495      -0.204629   \n",
            "\n",
            "   AccountBalance PreviousTransactionDate  TransactionMonth  Target  \n",
            "0       -0.000315     2024-11-04 08:08:08               4.0       2  \n",
            "1        2.218381     2024-11-04 08:09:35               6.0       0  \n",
            "2       -1.024091     2024-11-04 08:07:04               7.0       1  \n",
            "3        0.886694     2024-11-04 08:09:06               5.0       0  \n",
            "4        0.594263     2024-11-04 08:06:39              10.0       0  \n"
          ]
        }
      ]
    },
    {
      "cell_type": "markdown",
      "source": [
        "# **3. Data Splitting**\n",
        "Tahap Data Splitting bertujuan untuk memisahkan dataset menjadi dua bagian: data latih (training set) dan data uji (test set)."
      ],
      "metadata": {
        "id": "KkPem5eWL2UP"
      }
    },
    {
      "cell_type": "code",
      "source": [
        "# Menggunakan train_test_split() untuk melakukan pembagian dataset.\n",
        "# Pisahkan fitur (X) dan target (y)\n",
        "X = df.drop(columns=['Target', 'TransactionDate', 'PreviousTransactionDate'])\n",
        "y = df['Target']\n",
        "\n",
        "# Lakukan train-test split (70% train, 30% test) dengan stratifikasi label\n",
        "X_train, X_test, y_train, y_test = train_test_split(\n",
        "    X, y,\n",
        "    test_size=0.3,\n",
        "    random_state=42,\n",
        "    stratify=y\n",
        ")\n",
        "\n",
        "# Cek ukuran masing-masing set\n",
        "print(\"Train set:\", X_train.shape, y_train.shape)\n",
        "print(\"Test set: \", X_test.shape,  y_test.shape)"
      ],
      "metadata": {
        "id": "OubAW-7ONKVj",
        "colab": {
          "base_uri": "https://localhost:8080/"
        },
        "outputId": "9ebd3386-8779-4ad3-88a6-247aab841b7b"
      },
      "execution_count": 4,
      "outputs": [
        {
          "output_type": "stream",
          "name": "stdout",
          "text": [
            "Train set: (1656, 10) (1656,)\n",
            "Test set:  (710, 10) (710,)\n"
          ]
        }
      ]
    },
    {
      "cell_type": "markdown",
      "source": [
        "# **4. Membangun Model Klasifikasi**\n",
        "Setelah memilih algoritma klasifikasi yang sesuai, langkah selanjutnya adalah melatih model menggunakan data latih.\n",
        "\n",
        "Berikut adalah rekomendasi tahapannya.\n",
        "1. Menggunakan algoritma klasifikasi yaitu Decision Tree.\n",
        "2. Latih model menggunakan data yang sudah dipisah."
      ],
      "metadata": {
        "id": "IVPbB03CMhTT"
      }
    },
    {
      "cell_type": "code",
      "source": [
        "# Buatlah model klasifikasi menggunakan Decision Tree\n",
        "# Inisialisasi model Decision Tree\n",
        "dt_model = DecisionTreeClassifier(random_state=42)\n",
        "\n",
        "# Latih model menggunakan data train\n",
        "dt_model.fit(X_train, y_train)\n",
        "\n",
        "# Prediksi pada data test\n",
        "y_pred = dt_model.predict(X_test)\n",
        "\n",
        "# Evaluasi performa\n",
        "print(\"Accuracy:\", accuracy_score(y_test, y_pred))\n",
        "print(\"\\nClassification Report:\\n\", classification_report(y_test, y_pred))\n",
        "print(\"\\nConfusion Matrix:\\n\", confusion_matrix(y_test, y_pred))"
      ],
      "metadata": {
        "id": "4JYxBe87NLDk",
        "colab": {
          "base_uri": "https://localhost:8080/"
        },
        "outputId": "7e9f40da-98f1-4ab3-ab77-e3325bdb92f6"
      },
      "execution_count": 5,
      "outputs": [
        {
          "output_type": "stream",
          "name": "stdout",
          "text": [
            "Accuracy: 0.9464788732394366\n",
            "\n",
            "Classification Report:\n",
            "               precision    recall  f1-score   support\n",
            "\n",
            "           0       0.94      0.94      0.94       189\n",
            "           1       0.95      0.98      0.96       214\n",
            "           2       0.96      0.93      0.94       229\n",
            "           3       0.92      0.92      0.92        78\n",
            "\n",
            "    accuracy                           0.95       710\n",
            "   macro avg       0.94      0.94      0.94       710\n",
            "weighted avg       0.95      0.95      0.95       710\n",
            "\n",
            "\n",
            "Confusion Matrix:\n",
            " [[178   4   6   1]\n",
            " [  2 210   2   0]\n",
            " [  5   7 212   5]\n",
            " [  5   1   0  72]]\n"
          ]
        }
      ]
    },
    {
      "cell_type": "code",
      "source": [
        "# Menyimpan Model\n",
        "# import joblib\n",
        "# joblib.dump(model, 'decision_tree_model.h5')\n",
        "\n",
        "# Simpan model ke file\n",
        "import joblib\n",
        "joblib.dump(dt_model, 'decision_tree_model.h5')"
      ],
      "metadata": {
        "id": "P_AakAxghYv-",
        "colab": {
          "base_uri": "https://localhost:8080/"
        },
        "outputId": "de027bce-0382-4595-f996-68998f39ec2b"
      },
      "execution_count": 6,
      "outputs": [
        {
          "output_type": "execute_result",
          "data": {
            "text/plain": [
              "['decision_tree_model.h5']"
            ]
          },
          "metadata": {},
          "execution_count": 6
        }
      ]
    },
    {
      "cell_type": "markdown",
      "source": [
        "# **5. Memenuhi Kriteria Skilled dan Advanced dalam Membangun Model Klasifikasi**\n",
        "\n"
      ],
      "metadata": {
        "id": "epO4HhrzBXMg"
      }
    },
    {
      "cell_type": "markdown",
      "source": [
        "**Biarkan kosong jika tidak menerapkan kriteria skilled atau advanced**"
      ],
      "metadata": {
        "id": "DNOEZk24uiXu"
      }
    },
    {
      "cell_type": "code",
      "source": [
        "# Melatih model menggunakan algoritma klasifikasi selain Decision Tree.\n",
        "# Inisialisasi Random Forest\n",
        "rf_model = RandomForestClassifier(n_estimators=100, random_state=42)\n",
        "\n",
        "# Latih model dengan data train\n",
        "rf_model.fit(X_train, y_train)\n",
        "\n",
        "# Prediksi pada data test\n",
        "y_pred_rf = rf_model.predict(X_test)"
      ],
      "metadata": {
        "id": "kB_8LIWMATl6"
      },
      "execution_count": 7,
      "outputs": []
    },
    {
      "cell_type": "code",
      "source": [
        "# Menampilkan hasil evaluasi akurasi, presisi, recall, dan F1-Score pada seluruh algoritma yang sudah dibuat.\n",
        "# Evaluasi performa\n",
        "print(\"=== Random Forest ===\")\n",
        "print(\"Accuracy :\", accuracy_score(y_test, y_pred_rf))\n",
        "print(\"Precision:\", precision_score(y_test, y_pred_rf, average='weighted'))\n",
        "print(\"Recall   :\", recall_score(y_test, y_pred_rf, average='weighted'))\n",
        "print(\"F1-score :\", f1_score(y_test, y_pred_rf, average='weighted'))"
      ],
      "metadata": {
        "id": "bRlKm5BVAT91",
        "colab": {
          "base_uri": "https://localhost:8080/"
        },
        "outputId": "09e93a9e-82a2-4cfe-f85b-81d5943f79f0"
      },
      "execution_count": 8,
      "outputs": [
        {
          "output_type": "stream",
          "name": "stdout",
          "text": [
            "=== Random Forest ===\n",
            "Accuracy : 0.9605633802816902\n",
            "Precision: 0.9607026508000275\n",
            "Recall   : 0.9605633802816902\n",
            "F1-score : 0.9604295341549589\n"
          ]
        }
      ]
    },
    {
      "cell_type": "code",
      "source": [
        "# Menyimpan Model Selain Decision Tree\n",
        "# Model ini bisa lebih dari satu\n",
        "# import joblib\n",
        "# joblib.dump(___, 'explore_<Nama Algoritma>_classification.h5')\n",
        "\n",
        "\n",
        "# Simpan model Random Forest\n",
        "joblib.dump(rf_model, 'explore_RandomForest_classification.h5')"
      ],
      "metadata": {
        "id": "dUPItkbXBNkO",
        "colab": {
          "base_uri": "https://localhost:8080/"
        },
        "outputId": "e04b2352-8f9a-414b-ff74-33fbb1b30d06"
      },
      "execution_count": 9,
      "outputs": [
        {
          "output_type": "execute_result",
          "data": {
            "text/plain": [
              "['explore_RandomForest_classification.h5']"
            ]
          },
          "metadata": {},
          "execution_count": 9
        }
      ]
    },
    {
      "cell_type": "markdown",
      "source": [
        "Hyperparameter Tuning Model\n",
        "\n",
        "Pilih salah satu algoritma yang ingin Anda tuning"
      ],
      "metadata": {
        "id": "u23H2guj-h9h"
      }
    },
    {
      "cell_type": "code",
      "source": [
        "# Lakukan Hyperparameter Tuning dan Latih ulang.\n",
        "\n",
        "# Tentukan grid parameter\n",
        "param_grid = {\n",
        "    'n_estimators': [100, 200, 300],\n",
        "    'max_depth': [None, 10, 20],\n",
        "    'min_samples_split': [2, 5],\n",
        "    'min_samples_leaf': [1, 2]\n",
        "}\n",
        "\n",
        "# Siapkan GridSearchCV dengan 3-fold CV\n",
        "grid_rf = GridSearchCV(\n",
        "    estimator=RandomForestClassifier(random_state=42),\n",
        "    param_grid=param_grid,\n",
        "    scoring='f1_weighted',\n",
        "    cv=3,\n",
        "    n_jobs=-1,\n",
        "    verbose=1\n",
        ")\n",
        "\n",
        "# Jalankan tuning\n",
        "grid_rf.fit(X_train, y_train)\n",
        "\n",
        "# Ambil model terbaik\n",
        "best_rf = grid_rf.best_estimator_\n",
        "print(\"Best Parameters:\", grid_rf.best_params_, \"\\n\")"
      ],
      "metadata": {
        "id": "dFCTxJJq-m-l",
        "colab": {
          "base_uri": "https://localhost:8080/"
        },
        "outputId": "1785c8fb-6139-4d34-9503-f7b7bc2a8441"
      },
      "execution_count": 10,
      "outputs": [
        {
          "output_type": "stream",
          "name": "stdout",
          "text": [
            "Fitting 3 folds for each of 36 candidates, totalling 108 fits\n",
            "Best Parameters: {'max_depth': None, 'min_samples_leaf': 1, 'min_samples_split': 2, 'n_estimators': 300} \n",
            "\n"
          ]
        }
      ]
    },
    {
      "cell_type": "code",
      "source": [
        "# Menampilkan hasil evaluasi akurasi, presisi, recall, dan F1-Score pada algoritma yang sudah dituning.\n",
        "y_pred = best_rf.predict(X_test)\n",
        "print(\"=== Random Forest (GridSearch) ===\")\n",
        "print(\"Accuracy :\", accuracy_score(y_test, y_pred))\n",
        "print(\"Precision:\", precision_score(y_test, y_pred, average='weighted'))\n",
        "print(\"Recall   :\", recall_score(y_test, y_pred, average='weighted'))\n",
        "print(\"F1-score :\", f1_score(y_test, y_pred, average='weighted'))"
      ],
      "metadata": {
        "id": "1g6EPSSWxjcQ",
        "colab": {
          "base_uri": "https://localhost:8080/"
        },
        "outputId": "7dbe6514-b8af-422f-fabd-53e286e7c83e"
      },
      "execution_count": 11,
      "outputs": [
        {
          "output_type": "stream",
          "name": "stdout",
          "text": [
            "=== Random Forest (GridSearch) ===\n",
            "Accuracy : 0.9633802816901409\n",
            "Precision: 0.9633641971475776\n",
            "Recall   : 0.9633802816901409\n",
            "F1-score : 0.9632438961083428\n"
          ]
        }
      ]
    },
    {
      "cell_type": "code",
      "source": [
        "# Menyimpan Model hasil tuning\n",
        "# import joblib\n",
        "# joblib.dump(model_dt, 'tuning_classification.h5')\n",
        "\n",
        "# Simpan model hasil tuning\n",
        "joblib.dump(best_rf, 'tuning_classification.h5')"
      ],
      "metadata": {
        "id": "7UJNcVP--n7S",
        "colab": {
          "base_uri": "https://localhost:8080/"
        },
        "outputId": "2086484a-8e7c-4805-87b1-927fe7293a63"
      },
      "execution_count": 12,
      "outputs": [
        {
          "output_type": "execute_result",
          "data": {
            "text/plain": [
              "['tuning_classification.h5']"
            ]
          },
          "metadata": {},
          "execution_count": 12
        }
      ]
    }
  ]
}